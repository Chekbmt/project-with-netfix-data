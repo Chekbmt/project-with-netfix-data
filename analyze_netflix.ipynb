{
 "cells": [
  {
   "cell_type": "code",
   "execution_count": 81,
   "id": "86e5f8be",
   "metadata": {},
   "outputs": [],
   "source": [
    "import pandas as pd\n",
    "import numpy as np\n",
    "import seaborn as sns\n",
    "import matplotlib.pyplot as plt\n"
   ]
  },
  {
   "cell_type": "code",
   "execution_count": 79,
   "id": "93ecedd6",
   "metadata": {},
   "outputs": [
    {
     "name": "stdout",
     "output_type": "stream",
     "text": [
      "C:\\Users\\hello\\data_learn\n"
     ]
    }
   ],
   "source": [
    "cd C:\\Users\\hello\\data_learn"
   ]
  },
  {
   "cell_type": "markdown",
   "id": "3bb35275",
   "metadata": {},
   "source": [
    "## EXPLORATION"
   ]
  },
  {
   "cell_type": "code",
   "execution_count": 5,
   "id": "ef320d95",
   "metadata": {},
   "outputs": [],
   "source": [
    "df = pd.read_csv('netflix_titles.csv')\n"
   ]
  },
  {
   "cell_type": "code",
   "execution_count": 6,
   "id": "58aa4b5c",
   "metadata": {
    "scrolled": true
   },
   "outputs": [
    {
     "data": {
      "text/html": [
       "<div>\n",
       "<style scoped>\n",
       "    .dataframe tbody tr th:only-of-type {\n",
       "        vertical-align: middle;\n",
       "    }\n",
       "\n",
       "    .dataframe tbody tr th {\n",
       "        vertical-align: top;\n",
       "    }\n",
       "\n",
       "    .dataframe thead th {\n",
       "        text-align: right;\n",
       "    }\n",
       "</style>\n",
       "<table border=\"1\" class=\"dataframe\">\n",
       "  <thead>\n",
       "    <tr style=\"text-align: right;\">\n",
       "      <th></th>\n",
       "      <th>show_id</th>\n",
       "      <th>type</th>\n",
       "      <th>title</th>\n",
       "      <th>director</th>\n",
       "      <th>cast</th>\n",
       "      <th>country</th>\n",
       "      <th>date_added</th>\n",
       "      <th>release_year</th>\n",
       "      <th>rating</th>\n",
       "      <th>duration</th>\n",
       "      <th>listed_in</th>\n",
       "      <th>description</th>\n",
       "    </tr>\n",
       "  </thead>\n",
       "  <tbody>\n",
       "    <tr>\n",
       "      <th>0</th>\n",
       "      <td>s1</td>\n",
       "      <td>Movie</td>\n",
       "      <td>Dick Johnson Is Dead</td>\n",
       "      <td>Kirsten Johnson</td>\n",
       "      <td>NaN</td>\n",
       "      <td>United States</td>\n",
       "      <td>September 25, 2021</td>\n",
       "      <td>2020</td>\n",
       "      <td>PG-13</td>\n",
       "      <td>90 min</td>\n",
       "      <td>Documentaries</td>\n",
       "      <td>As her father nears the end of his life, filmm...</td>\n",
       "    </tr>\n",
       "    <tr>\n",
       "      <th>1</th>\n",
       "      <td>s2</td>\n",
       "      <td>TV Show</td>\n",
       "      <td>Blood &amp; Water</td>\n",
       "      <td>NaN</td>\n",
       "      <td>Ama Qamata, Khosi Ngema, Gail Mabalane, Thaban...</td>\n",
       "      <td>South Africa</td>\n",
       "      <td>September 24, 2021</td>\n",
       "      <td>2021</td>\n",
       "      <td>TV-MA</td>\n",
       "      <td>2 Seasons</td>\n",
       "      <td>International TV Shows, TV Dramas, TV Mysteries</td>\n",
       "      <td>After crossing paths at a party, a Cape Town t...</td>\n",
       "    </tr>\n",
       "    <tr>\n",
       "      <th>2</th>\n",
       "      <td>s3</td>\n",
       "      <td>TV Show</td>\n",
       "      <td>Ganglands</td>\n",
       "      <td>Julien Leclercq</td>\n",
       "      <td>Sami Bouajila, Tracy Gotoas, Samuel Jouy, Nabi...</td>\n",
       "      <td>NaN</td>\n",
       "      <td>September 24, 2021</td>\n",
       "      <td>2021</td>\n",
       "      <td>TV-MA</td>\n",
       "      <td>1 Season</td>\n",
       "      <td>Crime TV Shows, International TV Shows, TV Act...</td>\n",
       "      <td>To protect his family from a powerful drug lor...</td>\n",
       "    </tr>\n",
       "    <tr>\n",
       "      <th>3</th>\n",
       "      <td>s4</td>\n",
       "      <td>TV Show</td>\n",
       "      <td>Jailbirds New Orleans</td>\n",
       "      <td>NaN</td>\n",
       "      <td>NaN</td>\n",
       "      <td>NaN</td>\n",
       "      <td>September 24, 2021</td>\n",
       "      <td>2021</td>\n",
       "      <td>TV-MA</td>\n",
       "      <td>1 Season</td>\n",
       "      <td>Docuseries, Reality TV</td>\n",
       "      <td>Feuds, flirtations and toilet talk go down amo...</td>\n",
       "    </tr>\n",
       "    <tr>\n",
       "      <th>4</th>\n",
       "      <td>s5</td>\n",
       "      <td>TV Show</td>\n",
       "      <td>Kota Factory</td>\n",
       "      <td>NaN</td>\n",
       "      <td>Mayur More, Jitendra Kumar, Ranjan Raj, Alam K...</td>\n",
       "      <td>India</td>\n",
       "      <td>September 24, 2021</td>\n",
       "      <td>2021</td>\n",
       "      <td>TV-MA</td>\n",
       "      <td>2 Seasons</td>\n",
       "      <td>International TV Shows, Romantic TV Shows, TV ...</td>\n",
       "      <td>In a city of coaching centers known to train I...</td>\n",
       "    </tr>\n",
       "  </tbody>\n",
       "</table>\n",
       "</div>"
      ],
      "text/plain": [
       "  show_id     type                  title         director  \\\n",
       "0      s1    Movie   Dick Johnson Is Dead  Kirsten Johnson   \n",
       "1      s2  TV Show          Blood & Water              NaN   \n",
       "2      s3  TV Show              Ganglands  Julien Leclercq   \n",
       "3      s4  TV Show  Jailbirds New Orleans              NaN   \n",
       "4      s5  TV Show           Kota Factory              NaN   \n",
       "\n",
       "                                                cast        country  \\\n",
       "0                                                NaN  United States   \n",
       "1  Ama Qamata, Khosi Ngema, Gail Mabalane, Thaban...   South Africa   \n",
       "2  Sami Bouajila, Tracy Gotoas, Samuel Jouy, Nabi...            NaN   \n",
       "3                                                NaN            NaN   \n",
       "4  Mayur More, Jitendra Kumar, Ranjan Raj, Alam K...          India   \n",
       "\n",
       "           date_added  release_year rating   duration  \\\n",
       "0  September 25, 2021          2020  PG-13     90 min   \n",
       "1  September 24, 2021          2021  TV-MA  2 Seasons   \n",
       "2  September 24, 2021          2021  TV-MA   1 Season   \n",
       "3  September 24, 2021          2021  TV-MA   1 Season   \n",
       "4  September 24, 2021          2021  TV-MA  2 Seasons   \n",
       "\n",
       "                                           listed_in  \\\n",
       "0                                      Documentaries   \n",
       "1    International TV Shows, TV Dramas, TV Mysteries   \n",
       "2  Crime TV Shows, International TV Shows, TV Act...   \n",
       "3                             Docuseries, Reality TV   \n",
       "4  International TV Shows, Romantic TV Shows, TV ...   \n",
       "\n",
       "                                         description  \n",
       "0  As her father nears the end of his life, filmm...  \n",
       "1  After crossing paths at a party, a Cape Town t...  \n",
       "2  To protect his family from a powerful drug lor...  \n",
       "3  Feuds, flirtations and toilet talk go down amo...  \n",
       "4  In a city of coaching centers known to train I...  "
      ]
     },
     "execution_count": 6,
     "metadata": {},
     "output_type": "execute_result"
    }
   ],
   "source": [
    "df.head()"
   ]
  },
  {
   "cell_type": "code",
   "execution_count": 7,
   "id": "21652bd6",
   "metadata": {},
   "outputs": [
    {
     "name": "stdout",
     "output_type": "stream",
     "text": [
      "Index(['show_id', 'type', 'title', 'director', 'cast', 'country', 'date_added',\n",
      "       'release_year', 'rating', 'duration', 'listed_in', 'description'],\n",
      "      dtype='object') \n",
      "\n",
      "<class 'pandas.core.frame.DataFrame'>\n",
      "RangeIndex: 8807 entries, 0 to 8806\n",
      "Data columns (total 12 columns):\n",
      " #   Column        Non-Null Count  Dtype \n",
      "---  ------        --------------  ----- \n",
      " 0   show_id       8807 non-null   object\n",
      " 1   type          8807 non-null   object\n",
      " 2   title         8807 non-null   object\n",
      " 3   director      6173 non-null   object\n",
      " 4   cast          7982 non-null   object\n",
      " 5   country       7976 non-null   object\n",
      " 6   date_added    8797 non-null   object\n",
      " 7   release_year  8807 non-null   int64 \n",
      " 8   rating        8803 non-null   object\n",
      " 9   duration      8804 non-null   object\n",
      " 10  listed_in     8807 non-null   object\n",
      " 11  description   8807 non-null   object\n",
      "dtypes: int64(1), object(11)\n",
      "memory usage: 825.8+ KB\n"
     ]
    }
   ],
   "source": [
    "#XEM THÔNG TIN CÁC CỘT TRONG DATA\n",
    "raw_columns = df.columns\n",
    "print(raw_columns,\"\\n\")\n",
    "\n",
    "raw_info = df.info()"
   ]
  },
  {
   "cell_type": "code",
   "execution_count": 8,
   "id": "d028fb98",
   "metadata": {},
   "outputs": [
    {
     "data": {
      "text/html": [
       "<div>\n",
       "<style scoped>\n",
       "    .dataframe tbody tr th:only-of-type {\n",
       "        vertical-align: middle;\n",
       "    }\n",
       "\n",
       "    .dataframe tbody tr th {\n",
       "        vertical-align: top;\n",
       "    }\n",
       "\n",
       "    .dataframe thead th {\n",
       "        text-align: right;\n",
       "    }\n",
       "</style>\n",
       "<table border=\"1\" class=\"dataframe\">\n",
       "  <thead>\n",
       "    <tr style=\"text-align: right;\">\n",
       "      <th></th>\n",
       "      <th>show_id</th>\n",
       "      <th>type</th>\n",
       "      <th>title</th>\n",
       "      <th>director</th>\n",
       "      <th>cast</th>\n",
       "      <th>country</th>\n",
       "      <th>date_added</th>\n",
       "      <th>release_year</th>\n",
       "      <th>rating</th>\n",
       "      <th>duration</th>\n",
       "      <th>listed_in</th>\n",
       "      <th>description</th>\n",
       "    </tr>\n",
       "  </thead>\n",
       "  <tbody>\n",
       "  </tbody>\n",
       "</table>\n",
       "</div>"
      ],
      "text/plain": [
       "Empty DataFrame\n",
       "Columns: [show_id, type, title, director, cast, country, date_added, release_year, rating, duration, listed_in, description]\n",
       "Index: []"
      ]
     },
     "execution_count": 8,
     "metadata": {},
     "output_type": "execute_result"
    }
   ],
   "source": [
    "df[df.duplicated()]\n",
    "#check co gia tri bi lap hay khong"
   ]
  },
  {
   "cell_type": "code",
   "execution_count": 9,
   "id": "0bc4b555",
   "metadata": {},
   "outputs": [
    {
     "name": "stdout",
     "output_type": "stream",
     "text": [
      "show_id            0\n",
      "type               0\n",
      "title              0\n",
      "director        2634\n",
      "cast             825\n",
      "country          831\n",
      "date_added        10\n",
      "release_year       0\n",
      "rating             4\n",
      "duration           3\n",
      "listed_in          0\n",
      "description        0\n",
      "dtype: int64\n"
     ]
    }
   ],
   "source": [
    "#Checking Missing Values\n",
    "missing_value_df = df.isnull().sum()\n",
    "print(missing_value_df)"
   ]
  },
  {
   "cell_type": "code",
   "execution_count": 10,
   "id": "15f9f8a4",
   "metadata": {},
   "outputs": [
    {
     "name": "stdout",
     "output_type": "stream",
     "text": [
      "director        29.91\n",
      "country          9.44\n",
      "cast             9.37\n",
      "date_added       0.11\n",
      "rating           0.05\n",
      "duration         0.03\n",
      "show_id          0.00\n",
      "type             0.00\n",
      "title            0.00\n",
      "release_year     0.00\n",
      "listed_in        0.00\n",
      "description      0.00\n",
      "dtype: float64\n"
     ]
    }
   ],
   "source": [
    "#tỉ lệ phần trăm missing value trên mỗi cột\n",
    "raw_percent_missing_value = 100*(missing_value_df / len(df.index))\n",
    "percent_missing_value = round(raw_percent_missing_value,2)\n",
    "print(percent_missing_value.sort_values(ascending=False))"
   ]
  },
  {
   "cell_type": "code",
   "execution_count": 11,
   "id": "bc05363d",
   "metadata": {},
   "outputs": [
    {
     "data": {
      "text/plain": [
       "<seaborn.axisgrid.FacetGrid at 0x15dc6555430>"
      ]
     },
     "execution_count": 11,
     "metadata": {},
     "output_type": "execute_result"
    },
    {
     "data": {
      "image/png": "[encoded data removed]",
      "text/plain": [
       "<Figure size 511.25x360 with 1 Axes>"
      ]
     },
     "metadata": {
      "needs_background": "light"
     },
     "output_type": "display_data"
    }
   ],
   "source": [
    "#visualiazation các biên missing\n",
    "sns.displot(\n",
    "    data=df.isna().melt(value_name=\"missing\"),\n",
    "    y=\"variable\",\n",
    "    hue=\"missing\",\n",
    "    multiple=\"fill\",\n",
    "    aspect=1.25)"
   ]
  },
  {
   "cell_type": "markdown",
   "id": "5a9f50eb",
   "metadata": {},
   "source": [
    "## PREPARING"
   ]
  },
  {
   "cell_type": "code",
   "execution_count": 13,
   "id": "bc1cf375",
   "metadata": {},
   "outputs": [],
   "source": [
    "data = df.copy()"
   ]
  },
  {
   "cell_type": "code",
   "execution_count": 14,
   "id": "0ffde80a",
   "metadata": {},
   "outputs": [],
   "source": [
    "#Country được thay thế bằng giá trị xuất hiện nhiều trong cột\n",
    "#Director thay bằng \"No Data\"\n",
    "# Cast thay bằng \"No Data\"\n",
    "#drop missing data khác\n",
    "data['country'] = data['country'].fillna(data['country'].mode()[0])\n",
    "data['cast'].replace(np.nan, 'No Data',inplace  = True)\n",
    "data['director'].replace(np.nan, 'No Data',inplace  = True)\n",
    "data.dropna(inplace=True)\n",
    "\n"
   ]
  },
  {
   "cell_type": "code",
   "execution_count": 15,
   "id": "542ead97",
   "metadata": {},
   "outputs": [
    {
     "data": {
      "text/plain": [
       "show_id         0\n",
       "type            0\n",
       "title           0\n",
       "director        0\n",
       "cast            0\n",
       "country         0\n",
       "date_added      0\n",
       "release_year    0\n",
       "rating          0\n",
       "duration        0\n",
       "listed_in       0\n",
       "description     0\n",
       "dtype: int64"
      ]
     },
     "execution_count": 15,
     "metadata": {},
     "output_type": "execute_result"
    }
   ],
   "source": [
    "data.isnull().sum()\n"
   ]
  },
  {
   "cell_type": "code",
   "execution_count": 16,
   "id": "c0cb62a6",
   "metadata": {},
   "outputs": [
    {
     "data": {
      "text/plain": [
       "(8790, 12)"
      ]
     },
     "execution_count": 16,
     "metadata": {},
     "output_type": "execute_result"
    }
   ],
   "source": [
    "data.shape\n",
    "#check giảm bao nhiêu dòng sau khi ta drop missing value"
   ]
  },
  {
   "cell_type": "code",
   "execution_count": 17,
   "id": "51baeaf8",
   "metadata": {},
   "outputs": [],
   "source": [
    "#chuyển cột \"date_added\" về dạng \"YYYY-MM-DD\"\n",
    "data['date_added'] = pd.to_datetime(data['date_added'])\n",
    "\n",
    "#Sau đó chia cột thành ngày, tháng, năm riêng lẻ\n",
    "data['month_added']=data['date_added'].dt.month\n",
    "data['month_name_added']=data['date_added'].dt.month_name()\n",
    "data['year_added'] = data['date_added'].dt.year"
   ]
  },
  {
   "cell_type": "code",
   "execution_count": 18,
   "id": "6b5d6a58",
   "metadata": {},
   "outputs": [
    {
     "data": {
      "text/plain": [
       "show_id                     object\n",
       "type                        object\n",
       "title                       object\n",
       "director                    object\n",
       "cast                        object\n",
       "country                     object\n",
       "date_added          datetime64[ns]\n",
       "release_year                 int64\n",
       "rating                      object\n",
       "duration                    object\n",
       "listed_in                   object\n",
       "description                 object\n",
       "month_added                  int64\n",
       "month_name_added            object\n",
       "year_added                   int64\n",
       "dtype: object"
      ]
     },
     "execution_count": 18,
     "metadata": {},
     "output_type": "execute_result"
    }
   ],
   "source": [
    "data.dtypes\n"
   ]
  },
  {
   "cell_type": "code",
   "execution_count": 19,
   "id": "3b55ac36",
   "metadata": {},
   "outputs": [
    {
     "data": {
      "text/html": [
       "<div>\n",
       "<style scoped>\n",
       "    .dataframe tbody tr th:only-of-type {\n",
       "        vertical-align: middle;\n",
       "    }\n",
       "\n",
       "    .dataframe tbody tr th {\n",
       "        vertical-align: top;\n",
       "    }\n",
       "\n",
       "    .dataframe thead th {\n",
       "        text-align: right;\n",
       "    }\n",
       "</style>\n",
       "<table border=\"1\" class=\"dataframe\">\n",
       "  <thead>\n",
       "    <tr style=\"text-align: right;\">\n",
       "      <th></th>\n",
       "      <th>show_id</th>\n",
       "      <th>type</th>\n",
       "      <th>title</th>\n",
       "      <th>director</th>\n",
       "      <th>cast</th>\n",
       "      <th>country</th>\n",
       "      <th>date_added</th>\n",
       "      <th>release_year</th>\n",
       "      <th>rating</th>\n",
       "      <th>duration</th>\n",
       "      <th>listed_in</th>\n",
       "      <th>description</th>\n",
       "      <th>month_added</th>\n",
       "      <th>month_name_added</th>\n",
       "      <th>year_added</th>\n",
       "    </tr>\n",
       "  </thead>\n",
       "  <tbody>\n",
       "    <tr>\n",
       "      <th>0</th>\n",
       "      <td>s1</td>\n",
       "      <td>Movie</td>\n",
       "      <td>Dick Johnson Is Dead</td>\n",
       "      <td>Kirsten Johnson</td>\n",
       "      <td>No Data</td>\n",
       "      <td>United States</td>\n",
       "      <td>2021-09-25</td>\n",
       "      <td>2020</td>\n",
       "      <td>PG-13</td>\n",
       "      <td>90 min</td>\n",
       "      <td>Documentaries</td>\n",
       "      <td>As her father nears the end of his life, filmm...</td>\n",
       "      <td>9</td>\n",
       "      <td>September</td>\n",
       "      <td>2021</td>\n",
       "    </tr>\n",
       "    <tr>\n",
       "      <th>1</th>\n",
       "      <td>s2</td>\n",
       "      <td>TV Show</td>\n",
       "      <td>Blood &amp; Water</td>\n",
       "      <td>No Data</td>\n",
       "      <td>Ama Qamata, Khosi Ngema, Gail Mabalane, Thaban...</td>\n",
       "      <td>South Africa</td>\n",
       "      <td>2021-09-24</td>\n",
       "      <td>2021</td>\n",
       "      <td>TV-MA</td>\n",
       "      <td>2 Seasons</td>\n",
       "      <td>International TV Shows, TV Dramas, TV Mysteries</td>\n",
       "      <td>After crossing paths at a party, a Cape Town t...</td>\n",
       "      <td>9</td>\n",
       "      <td>September</td>\n",
       "      <td>2021</td>\n",
       "    </tr>\n",
       "    <tr>\n",
       "      <th>2</th>\n",
       "      <td>s3</td>\n",
       "      <td>TV Show</td>\n",
       "      <td>Ganglands</td>\n",
       "      <td>Julien Leclercq</td>\n",
       "      <td>Sami Bouajila, Tracy Gotoas, Samuel Jouy, Nabi...</td>\n",
       "      <td>United States</td>\n",
       "      <td>2021-09-24</td>\n",
       "      <td>2021</td>\n",
       "      <td>TV-MA</td>\n",
       "      <td>1 Season</td>\n",
       "      <td>Crime TV Shows, International TV Shows, TV Act...</td>\n",
       "      <td>To protect his family from a powerful drug lor...</td>\n",
       "      <td>9</td>\n",
       "      <td>September</td>\n",
       "      <td>2021</td>\n",
       "    </tr>\n",
       "    <tr>\n",
       "      <th>3</th>\n",
       "      <td>s4</td>\n",
       "      <td>TV Show</td>\n",
       "      <td>Jailbirds New Orleans</td>\n",
       "      <td>No Data</td>\n",
       "      <td>No Data</td>\n",
       "      <td>United States</td>\n",
       "      <td>2021-09-24</td>\n",
       "      <td>2021</td>\n",
       "      <td>TV-MA</td>\n",
       "      <td>1 Season</td>\n",
       "      <td>Docuseries, Reality TV</td>\n",
       "      <td>Feuds, flirtations and toilet talk go down amo...</td>\n",
       "      <td>9</td>\n",
       "      <td>September</td>\n",
       "      <td>2021</td>\n",
       "    </tr>\n",
       "    <tr>\n",
       "      <th>4</th>\n",
       "      <td>s5</td>\n",
       "      <td>TV Show</td>\n",
       "      <td>Kota Factory</td>\n",
       "      <td>No Data</td>\n",
       "      <td>Mayur More, Jitendra Kumar, Ranjan Raj, Alam K...</td>\n",
       "      <td>India</td>\n",
       "      <td>2021-09-24</td>\n",
       "      <td>2021</td>\n",
       "      <td>TV-MA</td>\n",
       "      <td>2 Seasons</td>\n",
       "      <td>International TV Shows, Romantic TV Shows, TV ...</td>\n",
       "      <td>In a city of coaching centers known to train I...</td>\n",
       "      <td>9</td>\n",
       "      <td>September</td>\n",
       "      <td>2021</td>\n",
       "    </tr>\n",
       "  </tbody>\n",
       "</table>\n",
       "</div>"
      ],
      "text/plain": [
       "  show_id     type                  title         director  \\\n",
       "0      s1    Movie   Dick Johnson Is Dead  Kirsten Johnson   \n",
       "1      s2  TV Show          Blood & Water          No Data   \n",
       "2      s3  TV Show              Ganglands  Julien Leclercq   \n",
       "3      s4  TV Show  Jailbirds New Orleans          No Data   \n",
       "4      s5  TV Show           Kota Factory          No Data   \n",
       "\n",
       "                                                cast        country  \\\n",
       "0                                            No Data  United States   \n",
       "1  Ama Qamata, Khosi Ngema, Gail Mabalane, Thaban...   South Africa   \n",
       "2  Sami Bouajila, Tracy Gotoas, Samuel Jouy, Nabi...  United States   \n",
       "3                                            No Data  United States   \n",
       "4  Mayur More, Jitendra Kumar, Ranjan Raj, Alam K...          India   \n",
       "\n",
       "  date_added  release_year rating   duration  \\\n",
       "0 2021-09-25          2020  PG-13     90 min   \n",
       "1 2021-09-24          2021  TV-MA  2 Seasons   \n",
       "2 2021-09-24          2021  TV-MA   1 Season   \n",
       "3 2021-09-24          2021  TV-MA   1 Season   \n",
       "4 2021-09-24          2021  TV-MA  2 Seasons   \n",
       "\n",
       "                                           listed_in  \\\n",
       "0                                      Documentaries   \n",
       "1    International TV Shows, TV Dramas, TV Mysteries   \n",
       "2  Crime TV Shows, International TV Shows, TV Act...   \n",
       "3                             Docuseries, Reality TV   \n",
       "4  International TV Shows, Romantic TV Shows, TV ...   \n",
       "\n",
       "                                         description  month_added  \\\n",
       "0  As her father nears the end of his life, filmm...            9   \n",
       "1  After crossing paths at a party, a Cape Town t...            9   \n",
       "2  To protect his family from a powerful drug lor...            9   \n",
       "3  Feuds, flirtations and toilet talk go down amo...            9   \n",
       "4  In a city of coaching centers known to train I...            9   \n",
       "\n",
       "  month_name_added  year_added  \n",
       "0        September        2021  \n",
       "1        September        2021  \n",
       "2        September        2021  \n",
       "3        September        2021  \n",
       "4        September        2021  "
      ]
     },
     "execution_count": 19,
     "metadata": {},
     "output_type": "execute_result"
    }
   ],
   "source": [
    "#xem data sau khi chỉnh sửa\n",
    "data.head()"
   ]
  },
  {
   "cell_type": "markdown",
   "id": "597691f6",
   "metadata": {},
   "source": [
    "## VISUALIZATION"
   ]
  },
  {
   "cell_type": "code",
   "execution_count": 20,
   "id": "c15b0212",
   "metadata": {},
   "outputs": [
    {
     "data": {
      "text/plain": [
       "2019    2016\n",
       "2020    1879\n",
       "2018    1648\n",
       "2021    1498\n",
       "2017    1185\n",
       "2016     426\n",
       "2015      82\n",
       "2014      24\n",
       "2011      13\n",
       "2013      11\n",
       "2012       3\n",
       "2009       2\n",
       "2008       2\n",
       "2010       1\n",
       "Name: year_added, dtype: int64"
      ]
     },
     "execution_count": 20,
     "metadata": {},
     "output_type": "execute_result"
    }
   ],
   "source": [
    "#đếm số lượng show và phim được thêm vào từng năm trê netflix\n",
    "data['year_added'].value_counts()"
   ]
  },
  {
   "cell_type": "code",
   "execution_count": 28,
   "id": "d85cee8d",
   "metadata": {},
   "outputs": [
    {
     "data": {
      "image/png": "[encoded data removed]",
      "text/plain": [
       "<Figure size 720x576 with 1 Axes>"
      ]
     },
     "metadata": {
      "needs_background": "light"
     },
     "output_type": "display_data"
    }
   ],
   "source": [
    "#Biểu đồ số lượng phim được thêm vào từng năm\n",
    "plt.figure(figsize=(10,8))\n",
    "plt.title('Số lượng phim từng năm')\n",
    "sns.countplot(x='year_added',data=data,order=data['year_added'].value_counts().index[:],facecolor=(0,0,0,0),linewidth=5, edgecolor=sns.color_palette(\"flare\"))\n",
    "plt.show()"
   ]
  },
  {
   "cell_type": "code",
   "execution_count": 29,
   "id": "51801904",
   "metadata": {},
   "outputs": [
    {
     "data": {
      "text/plain": [
       "type\n",
       "Movie      6126\n",
       "TV Show    2664\n",
       "Name: type, dtype: int64"
      ]
     },
     "execution_count": 29,
     "metadata": {},
     "output_type": "execute_result"
    }
   ],
   "source": [
    "#Xem sự chênh lệch giữa movie và TV show trong tập dữ liệu\n",
    "data.groupby('type').type.count()"
   ]
  },
  {
   "cell_type": "code",
   "execution_count": 30,
   "id": "d31783ca",
   "metadata": {},
   "outputs": [
    {
     "data": {
      "image/png": "[encoded data removed]",
      "text/plain": [
       "<Figure size 432x288 with 1 Axes>"
      ]
     },
     "metadata": {
      "needs_background": "light"
     },
     "output_type": "display_data"
    }
   ],
   "source": [
    "sns.countplot(x='type', data=data)\n",
    "plt.show()\n"
   ]
  },
  {
   "cell_type": "code",
   "execution_count": 41,
   "id": "b8bd8727",
   "metadata": {},
   "outputs": [
    {
     "data": {
      "image/png": "[encoded data removed]",
      "text/plain": [
       "<Figure size 1152x360 with 1 Axes>"
      ]
     },
     "metadata": {
      "needs_background": "light"
     },
     "output_type": "display_data"
    }
   ],
   "source": [
    "#tạo data set mới, gộp chung 'type' và 'year_added'\n",
    "type_year = (data.groupby(['type','year_added'])['title'].size()).reset_index()\n",
    "\n",
    "fig = plt.figure(figsize=(16,5))\n",
    " #Plot Properties (data use type_year from data.groupby type and yearadd)\n",
    "sns.lineplot(data = type_year,x = 'year_added',y = 'title',hue = 'type',style = 'type',palette='magma_r',markers=True, dashes=False)\n",
    "plt.title(\"Tổng số lượng mỗi loại theo từng năm\")\n",
    "plt.show()"
   ]
  },
  {
   "cell_type": "code",
   "execution_count": 44,
   "id": "1d689799",
   "metadata": {},
   "outputs": [
    {
     "data": {
      "text/plain": [
       "United States     3638\n",
       "India              972\n",
       "United Kingdom     418\n",
       "Japan              243\n",
       "South Korea        199\n",
       "Canada             181\n",
       "Spain              145\n",
       "France             124\n",
       "Mexico             110\n",
       "Egypt              106\n",
       "Name: country, dtype: int64"
      ]
     },
     "execution_count": 44,
     "metadata": {},
     "output_type": "execute_result"
    }
   ],
   "source": [
    "# check 10 nước có số lượng movies và TV Show nhiều nhất \n",
    "data['country'].value_counts()[:10]"
   ]
  },
  {
   "cell_type": "code",
   "execution_count": 46,
   "id": "1c02614b",
   "metadata": {},
   "outputs": [
    {
     "data": {
      "image/png": "[encoded data removed]",
      "text/plain": [
       "<Figure size 864x432 with 1 Axes>"
      ]
     },
     "metadata": {
      "needs_background": "light"
     },
     "output_type": "display_data"
    }
   ],
   "source": [
    "fig = plt.figure(figsize=(12,6))\n",
    "sns.countplot(data = data,y = 'country', order = data[\"country\"].value_counts().index[:10],hue = 'type',palette = 'magma_r')\n",
    "plt.title(\"Những nước có nhiều movies và TV show nhất\")\n",
    "plt.show()"
   ]
  },
  {
   "cell_type": "code",
   "execution_count": 47,
   "id": "bd69005f",
   "metadata": {},
   "outputs": [
    {
     "data": {
      "text/plain": [
       "No Data                           2621\n",
       "Rajiv Chilaka                       19\n",
       "Raúl Campos, Jan Suter              18\n",
       "Suhas Kadav                         16\n",
       "Marcus Raboy                        16\n",
       "                                  ... \n",
       "Raymie Muzquiz, Stu Livingston       1\n",
       "Joe Menendez                         1\n",
       "Eric Bross                           1\n",
       "Will Eisenberg                       1\n",
       "Mozez Singh                          1\n",
       "Name: director, Length: 4527, dtype: int64"
      ]
     },
     "execution_count": 47,
     "metadata": {},
     "output_type": "execute_result"
    }
   ],
   "source": [
    "#Check thông tin về dạo diên\n",
    "data['director'].value_counts()"
   ]
  },
  {
   "cell_type": "code",
   "execution_count": 48,
   "id": "670a7e0a",
   "metadata": {},
   "outputs": [
    {
     "data": {
      "text/plain": [
       "title\n",
       "Dick Johnson Is Dead                Kirsten Johnson\n",
       "Ganglands                           Julien Leclercq\n",
       "Midnight Mass                         Mike Flanagan\n",
       "My Little Pony: A New Generation      Robert Cullen\n",
       "My Little Pony: A New Generation     José Luis Ucha\n",
       "                                         ...       \n",
       "Zinzana                             Majid Al Ansari\n",
       "Zodiac                                David Fincher\n",
       "Zombieland                          Ruben Fleischer\n",
       "Zoom                                   Peter Hewitt\n",
       "Zubaan                                  Mozez Singh\n",
       "Length: 6974, dtype: object"
      ]
     },
     "execution_count": 48,
     "metadata": {},
     "output_type": "execute_result"
    }
   ],
   "source": [
    "director = data[data.director!='No Data'].set_index('title').director.str.split(\",\",expand=True).stack().reset_index(level=1,drop=True)\n",
    "director\n",
    "# != 'No Data' để loại những dòng có 'No Data'\n",
    "# .str.split(',',expand=True) để chia những dòng có 2 tác giả trở lên được ngăn cách bằng dấu ','"
   ]
  },
  {
   "cell_type": "code",
   "execution_count": 49,
   "id": "8d47fe6e",
   "metadata": {},
   "outputs": [
    {
     "data": {
      "text/plain": [
       "Rajiv Chilaka       22\n",
       " Jan Suter          18\n",
       "Raúl Campos         18\n",
       "Marcus Raboy        16\n",
       "Suhas Kadav         16\n",
       "                    ..\n",
       "Eric Bross           1\n",
       "Will Eisenberg       1\n",
       "Marina Seresesky     1\n",
       "Kenny Leon           1\n",
       "Mozez Singh          1\n",
       "Length: 5118, dtype: int64"
      ]
     },
     "execution_count": 49,
     "metadata": {},
     "output_type": "execute_result"
    }
   ],
   "source": [
    "#check lại data đã chuẩn chưa\n",
    "director.value_counts()\n"
   ]
  },
  {
   "cell_type": "code",
   "execution_count": 51,
   "id": "b0870678",
   "metadata": {},
   "outputs": [
    {
     "data": {
      "image/png": "[encoded data removed]",
      "text/plain": [
       "<Figure size 936x504 with 1 Axes>"
      ]
     },
     "metadata": {
      "needs_background": "light"
     },
     "output_type": "display_data"
    }
   ],
   "source": [
    "plt.figure(figsize=(13,7))\n",
    "sns.countplot(y = director, order=director.value_counts().index[:10], palette='magma_r')\n",
    "plt.title('Top 10 đạo diễn dựa trên số tác phẩm')\n",
    "plt.show()"
   ]
  },
  {
   "cell_type": "code",
   "execution_count": 52,
   "id": "eb5a5edc",
   "metadata": {},
   "outputs": [],
   "source": [
    "#phân tích về dữ liệu các diễn viên "
   ]
  },
  {
   "cell_type": "code",
   "execution_count": 53,
   "id": "ba8f33e6",
   "metadata": {},
   "outputs": [],
   "source": [
    "tv_shows = data[data.type == 'TV Show'].copy()\n",
    "movie = data[data.type == 'Movie'].copy()"
   ]
  },
  {
   "cell_type": "code",
   "execution_count": 54,
   "id": "28930c81",
   "metadata": {},
   "outputs": [
    {
     "data": {
      "text/plain": [
       "No Data                                                                                                                                                                                                                                                              350\n",
       "David Attenborough                                                                                                                                                                                                                                                    14\n",
       "Michela Luci, Jamie Watson, Anna Claire Bartlam, Dante Zee, Eric Peterson                                                                                                                                                                                              4\n",
       "Dave Chappelle                                                                                                                                                                                                                                                         3\n",
       "Nadiya Hussain                                                                                                                                                                                                                                                         2\n",
       "                                                                                                                                                                                                                                                                    ... \n",
       "Duncan Trussell, Phil Hendrie, Drew Pinsky, Joey Diaz, Natasha Leggero, Johnny Pemberton, Christina Pazsitzky, Anne Lamott, Damien Echols, Trudy Goodman, Maria Bamford, Pauly Shore, Doug Lussenhop, David Nichtern, Steve Little, Caitlin Doughty, Stephen Root      1\n",
       "Kelis, Leather Storrs                                                                                                                                                                                                                                                  1\n",
       "Nicky Jam, Diego Cadavid, Ana Lucia Dominguez, Darkiel, Osvaldo Friger, Jarlin Javier Martinez, Luis Rivera, Nestor Rodulfo, Luis Gonzaga                                                                                                                              1\n",
       "Thomas Middleditch, Ben Schwartz                                                                                                                                                                                                                                       1\n",
       "Sanam Saeed, Fawad Khan, Ayesha Omer, Mehreen Raheel, Sheheryar Munawar, Samina Peerzada, Waseem Abbas, Javed Sheikh, Hina Khawaja Bayat                                                                                                                               1\n",
       "Name: cast, Length: 2272, dtype: int64"
      ]
     },
     "execution_count": 54,
     "metadata": {},
     "output_type": "execute_result"
    }
   ],
   "source": [
    "tv_shows['cast'].value_counts()"
   ]
  },
  {
   "cell_type": "code",
   "execution_count": 56,
   "id": "5c68ed1e",
   "metadata": {},
   "outputs": [
    {
     "data": {
      "text/plain": [
       "No Data                                                                                                                                                      475\n",
       "Vatsal Dubey, Julie Tejwani, Rupa Bhimani, Jigna Bhardwaj, Rajesh Kava, Mousam, Swapnil                                                                       13\n",
       "Samuel West                                                                                                                                                   10\n",
       "Jeff Dunham                                                                                                                                                    7\n",
       "Kevin Hart                                                                                                                                                     6\n",
       "                                                                                                                                                            ... \n",
       "Oscar Martínez, Inma Cuesta, Mafalda Carbonell, Nacho López, Isabel Requena, Aina Clotet, Antonio Valero, María Zamora, Hugo Balaguer, Valeria Schoneveld      1\n",
       "Casey Affleck, Rooney Mara, Liz Franke, Rob Zabrecky, Will Oldham, Sonia Acevedo                                                                               1\n",
       "Faizon Love, Kirk Fox, Tony Todd, Pearl Thusi, Cassie Clare, Fiona Ramsey, Neels Clasen, Roxy Nel                                                              1\n",
       "Johnny Harris, Sam Keeley, Joe Dempsie, Kyle Soller, Nicholas Pinnock, Parker Sawyers, Philip Arditti, Sofia Boutella                                          1\n",
       "Vicky Kaushal, Sarah-Jane Dias, Raaghav Chanana, Manish Chaudhary, Meghna Malik, Malkeet Rauni, Anita Shabdish, Chittaranjan Tripathy                          1\n",
       "Name: cast, Length: 5444, dtype: int64"
      ]
     },
     "execution_count": 56,
     "metadata": {},
     "output_type": "execute_result"
    }
   ],
   "source": [
    "movie['cast'].value_counts()"
   ]
  },
  {
   "cell_type": "code",
   "execution_count": 65,
   "id": "16db9569",
   "metadata": {},
   "outputs": [],
   "source": [
    "#data của 'cast' bị giống cột 'director' nên ta áp dụng tương tự\n",
    "cast_tv = tv_shows[tv_shows.cast!='No Data'].set_index('title').cast.str.split(\",\",expand=True).stack().reset_index(level=1,drop=True)\n",
    "cast_m = movie[movie.cast!='No Data'].set_index('title').cast.str.split(\",\",expand=True).stack().reset_index(level=1,drop=True)"
   ]
  },
  {
   "cell_type": "code",
   "execution_count": 58,
   "id": "f0411f52",
   "metadata": {},
   "outputs": [
    {
     "data": {
      "text/plain": [
       " Takahiro Sakurai      24\n",
       " Junichi Suwabe        17\n",
       " Yuki Kaji             17\n",
       " Ai Kayano             16\n",
       " Daisuke Ono           14\n",
       "                       ..\n",
       "Téa Leoni               1\n",
       " Bebe Neuwirth          1\n",
       " Zeljko Ivanek          1\n",
       " Erich Bergen           1\n",
       " Hina Khawaja Bayat     1\n",
       "Length: 15437, dtype: int64"
      ]
     },
     "execution_count": 58,
     "metadata": {},
     "output_type": "execute_result"
    }
   ],
   "source": [
    "cast_tv.value_counts()"
   ]
  },
  {
   "cell_type": "code",
   "execution_count": 59,
   "id": "9d0c7caf",
   "metadata": {},
   "outputs": [
    {
     "data": {
      "text/plain": [
       " Anupam Kher              38\n",
       " Rupa Bhimani             27\n",
       " Om Puri                  27\n",
       "Shah Rukh Khan            26\n",
       " Boman Irani              25\n",
       "                          ..\n",
       " Hiyori Sakurada           1\n",
       " Mizuki Itagaki            1\n",
       " Shotaro Mamiya            1\n",
       "Miona Hori                 1\n",
       " Chittaranjan Tripathy     1\n",
       "Length: 27871, dtype: int64"
      ]
     },
     "execution_count": 59,
     "metadata": {},
     "output_type": "execute_result"
    }
   ],
   "source": [
    "cast_m.value_counts()"
   ]
  },
  {
   "cell_type": "code",
   "execution_count": 63,
   "id": "a8ae7dd4",
   "metadata": {},
   "outputs": [
    {
     "data": {
      "image/png": "[encoded data removed]",
      "text/plain": [
       "<Figure size 936x504 with 1 Axes>"
      ]
     },
     "metadata": {
      "needs_background": "light"
     },
     "output_type": "display_data"
    }
   ],
   "source": [
    "plt.figure(figsize=(13,7))\n",
    "sns.countplot(y = cast_tv, order=cast_tv.value_counts().index[:10], palette='magma_r')\n",
    "plt.title('Top 10 Diễn viên TV shows dựa trên số lượng tham gia')\n",
    "plt.show()"
   ]
  },
  {
   "cell_type": "code",
   "execution_count": 64,
   "id": "98fd229f",
   "metadata": {},
   "outputs": [
    {
     "data": {
      "image/png": "[encoded data removed]",
      "text/plain": [
       "<Figure size 936x504 with 1 Axes>"
      ]
     },
     "metadata": {
      "needs_background": "light"
     },
     "output_type": "display_data"
    }
   ],
   "source": [
    "plt.figure(figsize=(13,7))\n",
    "sns.countplot(y = cast_m, order=cast_m.value_counts().index[:10], palette='magma_r')\n",
    "plt.title('Top 10 Diễn viên Movie dựa trên số lượng tham gia')\n",
    "plt.show()"
   ]
  },
  {
   "cell_type": "code",
   "execution_count": 66,
   "id": "402621f1",
   "metadata": {},
   "outputs": [],
   "source": [
    "#Check Duration và Category "
   ]
  },
  {
   "cell_type": "code",
   "execution_count": 67,
   "id": "cb44c443",
   "metadata": {},
   "outputs": [
    {
     "data": {
      "text/plain": [
       "90 min     152\n",
       "94 min     146\n",
       "93 min     146\n",
       "97 min     146\n",
       "91 min     144\n",
       "          ... \n",
       "212 min      1\n",
       "8 min        1\n",
       "186 min      1\n",
       "193 min      1\n",
       "191 min      1\n",
       "Name: duration, Length: 205, dtype: int64"
      ]
     },
     "execution_count": 67,
     "metadata": {},
     "output_type": "execute_result"
    }
   ],
   "source": [
    "movie['duration'].value_counts()\n"
   ]
  },
  {
   "cell_type": "code",
   "execution_count": 68,
   "id": "13a24d3e",
   "metadata": {},
   "outputs": [
    {
     "data": {
      "text/plain": [
       "1 Season      1791\n",
       "2 Seasons      421\n",
       "3 Seasons      198\n",
       "4 Seasons       94\n",
       "5 Seasons       64\n",
       "6 Seasons       33\n",
       "7 Seasons       23\n",
       "8 Seasons       17\n",
       "9 Seasons        9\n",
       "10 Seasons       6\n",
       "13 Seasons       2\n",
       "15 Seasons       2\n",
       "12 Seasons       2\n",
       "17 Seasons       1\n",
       "11 Seasons       1\n",
       "Name: duration, dtype: int64"
      ]
     },
     "execution_count": 68,
     "metadata": {},
     "output_type": "execute_result"
    }
   ],
   "source": [
    "tv_shows['duration'].value_counts()"
   ]
  },
  {
   "cell_type": "code",
   "execution_count": 69,
   "id": "72cfeb0a",
   "metadata": {},
   "outputs": [],
   "source": [
    "#replace \"min\" bằng \" \"\n",
    "movie['duration'] = movie['duration'].str.replace(' min','').astype(int)"
   ]
  },
  {
   "cell_type": "code",
   "execution_count": 70,
   "id": "629276bd",
   "metadata": {},
   "outputs": [],
   "source": [
    "tv_shows['duration']=tv_shows['duration'].str.split(' ').str[0]\n",
    "tv_shows.rename(columns = {'duration':'season'}, inplace = True)"
   ]
  },
  {
   "cell_type": "code",
   "execution_count": 71,
   "id": "b72d7f5e",
   "metadata": {},
   "outputs": [
    {
     "data": {
      "text/plain": [
       "<seaborn.axisgrid.FacetGrid at 0x15dc9891970>"
      ]
     },
     "execution_count": 71,
     "metadata": {},
     "output_type": "execute_result"
    },
    {
     "data": {
      "image/png": "[encoded data removed]",
      "text/plain": [
       "<Figure size 360x360 with 1 Axes>"
      ]
     },
     "metadata": {
      "needs_background": "light"
     },
     "output_type": "display_data"
    }
   ],
   "source": [
    "#Độ dài của các movies\n",
    "sns.displot(data=movie,x='duration',bins=100)"
   ]
  },
  {
   "cell_type": "code",
   "execution_count": 72,
   "id": "78ec363f",
   "metadata": {},
   "outputs": [
    {
     "data": {
      "text/plain": [
       "<AxesSubplot:>"
      ]
     },
     "execution_count": 72,
     "metadata": {},
     "output_type": "execute_result"
    },
    {
     "data": {
      "image/png": "[encoded data removed]",
      "text/plain": [
       "<Figure size 432x288 with 1 Axes>"
      ]
     },
     "metadata": {
      "needs_background": "light"
     },
     "output_type": "display_data"
    }
   ],
   "source": [
    "# Số Season của các TV Show\n",
    "tv_shows['season'].value_counts().plot(kind='bar')"
   ]
  },
  {
   "cell_type": "code",
   "execution_count": 73,
   "id": "7f9eca07",
   "metadata": {},
   "outputs": [
    {
     "data": {
      "text/plain": [
       "title\n",
       "Dick Johnson Is Dead             Documentaries\n",
       "Blood & Water           International TV Shows\n",
       "Blood & Water                        TV Dramas\n",
       "Blood & Water                     TV Mysteries\n",
       "Ganglands                       Crime TV Shows\n",
       "dtype: object"
      ]
     },
     "execution_count": 73,
     "metadata": {},
     "output_type": "execute_result"
    }
   ],
   "source": [
    "#Check các thể loại của tv shows và movies\n",
    "genre = data.set_index('title').listed_in.str.split(\",\",expand=True).stack().reset_index(level=1,drop=True)\n",
    "genre.head()"
   ]
  },
  {
   "cell_type": "code",
   "execution_count": 74,
   "id": "1671985b",
   "metadata": {},
   "outputs": [
    {
     "data": {
      "text/plain": [
       " International Movies        2624\n",
       "Dramas                       1599\n",
       "Comedies                     1210\n",
       "Action & Adventure            859\n",
       "Documentaries                 829\n",
       "                             ... \n",
       "Romantic Movies                 3\n",
       "Spanish-Language TV Shows       2\n",
       "LGBTQ Movies                    1\n",
       "TV Sci-Fi & Fantasy             1\n",
       "Sports Movies                   1\n",
       "Length: 73, dtype: int64"
      ]
     },
     "execution_count": 74,
     "metadata": {},
     "output_type": "execute_result"
    }
   ],
   "source": [
    "#số lượng từng thể loại\n",
    "genre.value_counts()\n"
   ]
  },
  {
   "cell_type": "code",
   "execution_count": 75,
   "id": "97598462",
   "metadata": {},
   "outputs": [
    {
     "data": {
      "image/png": "[encoded data removed]",
      "text/plain": [
       "<Figure size 864x432 with 1 Axes>"
      ]
     },
     "metadata": {
      "needs_background": "light"
     },
     "output_type": "display_data"
    }
   ],
   "source": [
    "# đồ thị top 20 thể loại movie và tv shows\n",
    "plt.figure(figsize=(12,6))\n",
    "sns.countplot(y = genre, order=genre.value_counts().index[:20])\n",
    "plt.show()"
   ]
  },
  {
   "cell_type": "code",
   "execution_count": null,
   "id": "ee4374df",
   "metadata": {},
   "outputs": [],
   "source": []
  },
  {
   "cell_type": "code",
   "execution_count": null,
   "id": "5f8baac6",
   "metadata": {},
   "outputs": [],
   "source": []
  }
 ],
 "metadata": {
  "kernelspec": {
   "display_name": "Python 3 (ipykernel)",
   "language": "python",
   "name": "python3"
  },
  "language_info": {
   "codemirror_mode": {
    "name": "ipython",
    "version": 3
   },
   "file_extension": ".py",
   "mimetype": "text/x-python",
   "name": "python",
   "nbconvert_exporter": "python",
   "pygments_lexer": "ipython3",
   "version": "3.9.7"
  }
 },
 "nbformat": 4,
 "nbformat_minor": 5
}
